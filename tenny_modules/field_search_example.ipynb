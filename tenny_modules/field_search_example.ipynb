{
 "cells": [
  {
   "cell_type": "code",
   "execution_count": 107,
   "metadata": {},
   "outputs": [],
   "source": [
    "import numpy as np\n",
    "from pylab import *\n",
    "from scipy.ndimage import label"
   ]
  },
  {
   "cell_type": "code",
   "execution_count": 108,
   "metadata": {},
   "outputs": [],
   "source": [
    "def print_field(field):\n",
    "    for row in field:\n",
    "        print(row)"
   ]
  },
  {
   "cell_type": "code",
   "execution_count": 109,
   "metadata": {},
   "outputs": [],
   "source": [
    "def add_shape(field, shape):\n",
    "    for row in shape:\n",
    "        for x, y in row:\n",
    "            field[x][y] = 1\n",
    "    return field"
   ]
  },
  {
   "cell_type": "code",
   "execution_count": 110,
   "metadata": {},
   "outputs": [
    {
     "name": "stdout",
     "output_type": "stream",
     "text": [
      "[0, 1, 0, 1, 0, 1, 0, 1, 0, 1]\n",
      "[0, 0, 0, 0, 1, 0, 0, 0, 0, 0]\n",
      "[0, 0, 0, 0, 1, 0, 0, 0, 0, 0]\n",
      "[0, 0, 0, 0, 1, 0, 0, 0, 0, 0]\n",
      "[0, 0, 0, 0, 1, 0, 0, 0, 0, 0]\n",
      "[0, 0, 0, 0, 1, 0, 0, 0, 0, 0]\n",
      "[0, 0, 0, 0, 1, 0, 0, 0, 0, 0]\n",
      "[0, 0, 0, 0, 1, 0, 0, 0, 0, 0]\n",
      "[0, 0, 0, 0, 1, 0, 0, 0, 0, 0]\n",
      "[0, 0, 0, 0, 1, 0, 0, 0, 0, 0]\n"
     ]
    }
   ],
   "source": [
    "# Blank board\n",
    "input = [\n",
    "    [0, 1, 0, 1, 0, 1, 0, 1, 0, 1],\n",
    "    [0, 0, 0, 0, 1, 0, 0, 0, 0, 0],\n",
    "    [0, 0, 0, 0, 1, 0, 0, 0, 0, 0],\n",
    "    [0, 0, 0, 0, 1, 0, 0, 0, 0, 0],\n",
    "    [0, 0, 0, 0, 1, 0, 0, 0, 0, 0],\n",
    "    [0, 0, 0, 0, 1, 0, 0, 0, 0, 0],\n",
    "    [0, 0, 0, 0, 1, 0, 0, 0, 0, 0],\n",
    "    [0, 0, 0, 0, 1, 0, 0, 0, 0, 0],\n",
    "    [0, 0, 0, 0, 1, 0, 0, 0, 0, 0],\n",
    "    [0, 0, 0, 0, 1, 0, 0, 0, 0, 0]\n",
    "]\n",
    "print_field(input)"
   ]
  },
  {
   "cell_type": "code",
   "execution_count": 111,
   "metadata": {},
   "outputs": [
    {
     "name": "stdout",
     "output_type": "stream",
     "text": [
      "[0, 1, 0, 1, 0, 1, 0, 1, 0, 1]\n",
      "[0, 1, 1, 1, 1, 0, 0, 0, 0, 0]\n",
      "[0, 1, 1, 1, 1, 0, 0, 0, 0, 0]\n",
      "[0, 1, 1, 1, 1, 0, 0, 0, 0, 0]\n",
      "[0, 0, 0, 0, 1, 0, 0, 0, 0, 0]\n",
      "[0, 0, 0, 0, 1, 0, 0, 0, 0, 0]\n",
      "[0, 0, 0, 0, 1, 0, 0, 0, 0, 0]\n",
      "[0, 0, 0, 0, 1, 0, 0, 0, 0, 0]\n",
      "[0, 0, 0, 0, 1, 0, 0, 0, 0, 0]\n",
      "[0, 0, 0, 0, 1, 0, 0, 0, 0, 0]\n"
     ]
    }
   ],
   "source": [
    "shape = (\n",
    "    ((1, 1), (1, 2), (1, 3)),\n",
    "    ((2, 1), (2, 2), (2, 3)),\n",
    "    ((3, 1), (3, 2), (3, 3))\n",
    ")\n",
    "input = add_shape(input, shape)\n",
    "print_field(input)"
   ]
  },
  {
   "cell_type": "code",
   "execution_count": 114,
   "metadata": {},
   "outputs": [
    {
     "name": "stdout",
     "output_type": "stream",
     "text": [
      "[0, 1, 0, 1, 0, 1, 0, 1, 0, 1]\n",
      "[0, 1, 1, 1, 1, 0, 0, 0, 0, 0]\n",
      "[0, 1, 1, 1, 1, 0, 0, 0, 0, 0]\n",
      "[0, 1, 1, 1, 1, 0, 0, 0, 0, 0]\n",
      "[0, 0, 0, 0, 1, 0, 0, 0, 0, 0]\n",
      "[0, 0, 0, 0, 1, 0, 0, 0, 0, 0]\n",
      "[0, 0, 0, 0, 1, 0, 0, 0, 0, 0]\n",
      "[0, 0, 0, 0, 1, 0, 0, 0, 0, 0]\n",
      "[0, 0, 0, 0, 1, 0, 0, 0, 0, 0]\n",
      "[0, 0, 0, 0, 1, 0, 0, 0, 0, 0]\n",
      "\n",
      "top: [True, False, True]\n",
      "bottom: [False, False, False]\n",
      "left: [False, False, False]\n",
      "right: [True, True, True]\n"
     ]
    }
   ],
   "source": [
    "def is_first_row(x):\n",
    "    return x == 0\n",
    "\n",
    "def is_first_col(x):\n",
    "    return x == 0\n",
    "\n",
    "def is_last_row(x):\n",
    "    return x == 9\n",
    "\n",
    "def check_row(field, left, right, offset, operator = \"sub\"):\n",
    "    if operator == \"sub\":\n",
    "        row_to_check = left[0] - offset\n",
    "    else:\n",
    "        row_to_check = left[0] + offset\n",
    "        \n",
    "    cols_to_check = range(left[1], right[1] + 1)\n",
    "\n",
    "    surrounds = [(row_to_check, col) for col in cols_to_check]\n",
    "    return check_range(field, surrounds)\n",
    "\n",
    "def check_column(field, top, bottom, offset, operator = \"sub\"):\n",
    "    if operator == \"sub\":\n",
    "        column_to_check = top[1] - offset\n",
    "    else:\n",
    "        column_to_check = top[1] + offset\n",
    "        \n",
    "    rows_to_check = range(top[0], bottom[0] + 1)\n",
    "\n",
    "    surrounds = [(row, column_to_check) for row in rows_to_check]\n",
    "    return check_range(field, surrounds)\n",
    "\n",
    "def check_range(field, surrounds):\n",
    "    return [coord_is_full(field, coord) for coord in surrounds]\n",
    "\n",
    "def coord_is_full(field, coord):\n",
    "    return field[coord[0]][coord[1]] == 1\n",
    "\n",
    "def check_top_surrounds(field, coords):\n",
    "    offset = 1\n",
    "    top_row = coords[0]\n",
    "    top_left = top_row[0]\n",
    "    top_right = top_row[-1]\n",
    "    \n",
    "    if is_first_col(top_left[1]):\n",
    "        return [True for x in range(top_left[1], top_right[1] + 1)]\n",
    "    \n",
    "    return check_row(field, top_left, top_right, offset)\n",
    "\n",
    "def check_bottom_surrounds(field, coords):\n",
    "    offset = 1\n",
    "    bottom_row = coords[-1]\n",
    "    bottom_left = bottom_row[0]\n",
    "    bottom_right = bottom_row[-1]\n",
    "    \n",
    "    if is_last_row(bottom_left[0]):\n",
    "        return [True for x in range(bottom_left[1], bottom_right[1] + 1)]\n",
    "    \n",
    "    return check_row(field, bottom_left, bottom_right, offset, \"add\")\n",
    "\n",
    "def check_left_surrounds(field, coords):\n",
    "    offset = 1\n",
    "    top_row = coords[0]\n",
    "    bottom_row = coords[-1]\n",
    "    top_left = top_row[0]\n",
    "    bottom_left = bottom_row[0]\n",
    "    \n",
    "    if is_last_row(bottom_left[0]):\n",
    "        return [True for x in range(top_left[1], bottom_left[1] + 1)]\n",
    "    \n",
    "    return check_column(field, top_left, bottom_left, offset)\n",
    "\n",
    "def check_right_surrounds(field, coords):\n",
    "    offset = 1\n",
    "    top_row = coords[0]\n",
    "    bottom_row = coords[-1]\n",
    "    top_right = top_row[-1]\n",
    "    bottom_right = bottom_row[-1]\n",
    "    \n",
    "    if is_last_row(bottom_right[0]):\n",
    "        return [True for x in range(top_right[1], bottom_right[1] + 1)]\n",
    "    \n",
    "    return check_column(field, top_right, bottom_right, offset, \"add\")\n",
    "\n",
    "print_field(input)\n",
    "print()\n",
    "top_state = check_top_surrounds(input, shape)\n",
    "print(f\"top: {top_state}\")\n",
    "bottom_state = check_bottom_surrounds(input, shape)\n",
    "print(f\"bottom: {bottom_state}\")\n",
    "left_state = check_left_surrounds(input, shape)\n",
    "print(f\"left: {left_state}\")\n",
    "right_state = check_right_surrounds(input, shape)\n",
    "print(f\"right: {right_state}\")"
   ]
  },
  {
   "cell_type": "code",
   "execution_count": null,
   "metadata": {},
   "outputs": [],
   "source": []
  }
 ],
 "metadata": {
  "interpreter": {
   "hash": "cd6d1acce2750b7268c59f1cdcb59eca0ffea8d1cd19b57032d5d19935850d22"
  },
  "kernelspec": {
   "display_name": "Python 3.10.4 64-bit",
   "language": "python",
   "name": "python3"
  },
  "language_info": {
   "codemirror_mode": {
    "name": "ipython",
    "version": 3
   },
   "file_extension": ".py",
   "mimetype": "text/x-python",
   "name": "python",
   "nbconvert_exporter": "python",
   "pygments_lexer": "ipython3",
   "version": "3.10.4"
  },
  "orig_nbformat": 4
 },
 "nbformat": 4,
 "nbformat_minor": 2
}
